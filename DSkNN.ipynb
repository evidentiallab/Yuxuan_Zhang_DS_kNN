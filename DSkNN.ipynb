{
 "cells": [
  {
   "cell_type": "markdown",
   "metadata": {},
   "source": [
    "## Packages #"
   ]
  },
  {
   "cell_type": "code",
   "execution_count": 1,
   "metadata": {
    "pycharm": {
     "name": "#%%\n"
    }
   },
   "outputs": [],
   "source": [
    "%matplotlib inline\n",
    "import numpy as np\n",
    "from numpy.linalg import cholesky\n",
    "import matplotlib.pyplot as plt\n",
    "import pandas as pd\n",
    "from sklearn.model_selection import train_test_split\n",
    "from collections import Counter\n",
    "from pyds import MassFunction"
   ]
  },
  {
   "cell_type": "markdown",
   "metadata": {},
   "source": [
    "## The dataset #\n",
    "The data set is taken from two Gaussian distributions."
   ]
  },
  {
   "cell_type": "code",
   "execution_count": 2,
   "metadata": {
    "pycharm": {
     "name": "#%%\n"
    }
   },
   "outputs": [
    {
     "data": {
      "text/plain": "           x1        x2  Y\n0    0.964588 -0.677009  1\n1    1.121373  0.278960  1\n2    1.491209  0.487741  1\n3    1.050732  0.261016  1\n4    1.148200 -0.583565  1\n..        ...       ... ..\n995 -1.722823  0.152459  2\n996 -2.835500  0.950769  2\n997 -1.775083 -1.698757  2\n998 -0.456117  0.228054  2\n999 -0.980117  0.205707  2\n\n[1000 rows x 3 columns]",
      "text/html": "<div>\n<style scoped>\n    .dataframe tbody tr th:only-of-type {\n        vertical-align: middle;\n    }\n\n    .dataframe tbody tr th {\n        vertical-align: top;\n    }\n\n    .dataframe thead th {\n        text-align: right;\n    }\n</style>\n<table border=\"1\" class=\"dataframe\">\n  <thead>\n    <tr style=\"text-align: right;\">\n      <th></th>\n      <th>x1</th>\n      <th>x2</th>\n      <th>Y</th>\n    </tr>\n  </thead>\n  <tbody>\n    <tr>\n      <th>0</th>\n      <td>0.964588</td>\n      <td>-0.677009</td>\n      <td>1</td>\n    </tr>\n    <tr>\n      <th>1</th>\n      <td>1.121373</td>\n      <td>0.278960</td>\n      <td>1</td>\n    </tr>\n    <tr>\n      <th>2</th>\n      <td>1.491209</td>\n      <td>0.487741</td>\n      <td>1</td>\n    </tr>\n    <tr>\n      <th>3</th>\n      <td>1.050732</td>\n      <td>0.261016</td>\n      <td>1</td>\n    </tr>\n    <tr>\n      <th>4</th>\n      <td>1.148200</td>\n      <td>-0.583565</td>\n      <td>1</td>\n    </tr>\n    <tr>\n      <th>...</th>\n      <td>...</td>\n      <td>...</td>\n      <td>...</td>\n    </tr>\n    <tr>\n      <th>995</th>\n      <td>-1.722823</td>\n      <td>0.152459</td>\n      <td>2</td>\n    </tr>\n    <tr>\n      <th>996</th>\n      <td>-2.835500</td>\n      <td>0.950769</td>\n      <td>2</td>\n    </tr>\n    <tr>\n      <th>997</th>\n      <td>-1.775083</td>\n      <td>-1.698757</td>\n      <td>2</td>\n    </tr>\n    <tr>\n      <th>998</th>\n      <td>-0.456117</td>\n      <td>0.228054</td>\n      <td>2</td>\n    </tr>\n    <tr>\n      <th>999</th>\n      <td>-0.980117</td>\n      <td>0.205707</td>\n      <td>2</td>\n    </tr>\n  </tbody>\n</table>\n<p>1000 rows × 3 columns</p>\n</div>"
     },
     "execution_count": 2,
     "metadata": {},
     "output_type": "execute_result"
    }
   ],
   "source": [
    "data = pd.read_csv('dataset.txt')\n",
    "data"
   ]
  },
  {
   "cell_type": "code",
   "execution_count": 3,
   "outputs": [],
   "source": [
    "C1 = np.array(data[data['Y'].isin([1])][{'x1', 'x2'}])\n",
    "C2 = np.array(data[data['Y'].isin([2])][{'x1', 'x2'}])\n",
    "num_mds = C1.shape[0]"
   ],
   "metadata": {
    "collapsed": false,
    "pycharm": {
     "name": "#%%\n"
    }
   }
  },
  {
   "cell_type": "markdown",
   "source": [
    "## The parameter ##"
   ],
   "metadata": {
    "collapsed": false
   }
  },
  {
   "cell_type": "code",
   "execution_count": 4,
   "outputs": [],
   "source": [
    "gamma1 = 0\n",
    "gamma2 = 0\n",
    "Beta = 1\n",
    "alpha_0 = 0.95\n",
    "sampleNo = 1000"
   ],
   "metadata": {
    "collapsed": false,
    "pycharm": {
     "name": "#%%\n"
    }
   }
  },
  {
   "cell_type": "markdown",
   "source": [
    "If the parameter num_folds = sampleNo, we call the method leave-one-out."
   ],
   "metadata": {
    "collapsed": false,
    "pycharm": {
     "name": "#%% md\n"
    }
   }
  },
  {
   "cell_type": "code",
   "execution_count": 5,
   "metadata": {
    "pycharm": {
     "name": "#%%\n"
    }
   },
   "outputs": [],
   "source": [
    "num_folds = 10 # Cross-validation\n",
    "X = data[(['x1', 'x2'])]\n",
    "y = data[(['Y'])]\n",
    "num_train = int(sampleNo - X.shape[0] / num_folds)\n",
    "num_test = int(X.shape[0] / num_folds)"
   ]
  },
  {
   "cell_type": "markdown",
   "metadata": {},
   "source": [
    "## Compute the phi for DS_kNN ##"
   ]
  },
  {
   "cell_type": "code",
   "execution_count": 6,
   "metadata": {
    "pycharm": {
     "name": "#%%\n"
    }
   },
   "outputs": [],
   "source": [
    "def phi1(d_s):\n",
    "    return np.exp(- gamma1 * (d_s ** Beta))\n",
    "\n",
    "def phi2(d_s):\n",
    "    return np.exp(- gamma2 * (d_s ** Beta))"
   ]
  },
  {
   "cell_type": "markdown",
   "source": [
    "## Compute the mean distances for the parameter: dp##"
   ],
   "metadata": {
    "collapsed": false
   }
  },
  {
   "cell_type": "code",
   "execution_count": 7,
   "outputs": [],
   "source": [
    "def compute_mean_distances(C):\n",
    "    dists = np.zeros((num_mds, num_mds))\n",
    "    M = np.dot(C, C.T)\n",
    "    tr = np.square(C).sum(axis=1)\n",
    "    dists = np.sqrt(np.abs(-2 * M + 2 * np.matrix(tr)))\n",
    "    ds = (np.sum(dists) - np.sum(tr)) / (num_mds ** 2 - num_mds)\n",
    "    return ds"
   ],
   "metadata": {
    "collapsed": false,
    "pycharm": {
     "name": "#%%\n"
    }
   }
  },
  {
   "cell_type": "markdown",
   "metadata": {
    "pycharm": {
     "name": "#%% md\n"
    }
   },
   "source": [
    "## Compute the distances ##"
   ]
  },
  {
   "cell_type": "code",
   "execution_count": 8,
   "metadata": {
    "pycharm": {
     "name": "#%%\n"
    }
   },
   "outputs": [],
   "source": [
    "def compute_distances(X_test, X_train):\n",
    "    dists = np.zeros((num_test, num_train))\n",
    "    M = np.dot(X_test, X_train.T)\n",
    "    te = np.square(X_test).sum(axis=1)\n",
    "    tr = np.square(X_train).sum(axis=1)\n",
    "    dists = np.sqrt(-2 * M + np.matrix(tr) + np.matrix(te).T)\n",
    "    return dists"
   ]
  },
  {
   "cell_type": "markdown",
   "metadata": {
    "pycharm": {
     "name": "#%% md\n"
    }
   },
   "source": [
    "## Predict —— kNN ##"
   ]
  },
  {
   "cell_type": "code",
   "execution_count": 9,
   "metadata": {
    "pycharm": {
     "name": "#%%\n"
    }
   },
   "outputs": [],
   "source": [
    "def predict_labels(y_train, dists, k):\n",
    "    y_pred = np.zeros(num_test)\n",
    "    for i in range(num_test):\n",
    "        labels = np.matrix(y_train)[np.argsort(dists[i, :])].flatten()\n",
    "        closest_y = labels[0, 0:k]\n",
    "        l_c_y = closest_y.tolist()[0]\n",
    "        c = Counter(l_c_y)\n",
    "        y_pred[i] = c.most_common(1)[0][0]\n",
    "    return y_pred"
   ]
  },
  {
   "cell_type": "markdown",
   "metadata": {},
   "source": [
    "## Predict —— weighted_kNN ##"
   ]
  },
  {
   "cell_type": "code",
   "execution_count": 10,
   "metadata": {
    "pycharm": {
     "name": "#%%\n"
    }
   },
   "outputs": [],
   "source": [
    "def predict_labels_weight(y_train, dists, k):\n",
    "    y_pred = np.zeros(num_test)\n",
    "    for i in range(num_test):\n",
    "        closest_y = []\n",
    "        distances = np.sort(np.matrix(dists)).flatten()[:, 0:k]\n",
    "        dk = distances[:, k - 1]\n",
    "        d1 = distances[:, 0]\n",
    "        delta_d = dk - d1\n",
    "        ds = (dk - distances) / delta_d\n",
    "        labels = np.matrix(y_train)[np.argsort(dists[i, :])].flatten()\n",
    "        closest_y = labels[0, 0:k]\n",
    "        weights = np.zeros(2)\n",
    "        for j in range(k):\n",
    "            if closest_y.tolist()[0][j] == 1:\n",
    "                weights[0] += ds.tolist()[0][j]\n",
    "            else:\n",
    "                weights[1] += ds.tolist()[0][j]\n",
    "        if weights[0] > weights[1]:\n",
    "            y_pred[i] = 1\n",
    "        else:\n",
    "            y_pred[i] = 2\n",
    "    return y_pred"
   ]
  },
  {
   "cell_type": "markdown",
   "metadata": {},
   "source": [
    "## Predict —— DS_kNN ##"
   ]
  },
  {
   "cell_type": "code",
   "execution_count": 11,
   "metadata": {
    "pycharm": {
     "name": "#%%\n"
    }
   },
   "outputs": [],
   "source": [
    "def predict_labels_DS(y_train, dists, k):\n",
    "    y_pred = np.zeros(num_test)\n",
    "    for i in range(num_test):\n",
    "        closest_y = []\n",
    "        distances = np.sort(np.matrix(dists)).flatten()[:, 0:k]\n",
    "        labels = np.matrix(y_train)[np.argsort(dists[i, :])].flatten()\n",
    "        closest_y = labels[0, 0:k]\n",
    "        weights = np.zeros([2, k])\n",
    "        count1 = 0\n",
    "        count2 = 0\n",
    "        for j in range(k):\n",
    "            if closest_y.tolist()[0][j] == 1:\n",
    "                count1 += 1\n",
    "                weights[0][j] = distances.tolist()[0][j]\n",
    "            else:\n",
    "                count2 += 1\n",
    "                weights[1][j] = distances.tolist()[0][j]\n",
    "        m1 = [1, 0, 0]\n",
    "        m2 = [0, 1, 0]\n",
    "        for l in range(k):\n",
    "            if weights[0][l] != 0:\n",
    "                m1[0] *= 1 - alpha_0 * phi1(weights[0][l])\n",
    "            if weights[1][l] != 0:\n",
    "                m2[1] *= 1 - alpha_0 * phi2(weights[1][l])\n",
    "        M1 = MassFunction({'1': 1 - m1[0], '2': 0, '12': m1[0]})\n",
    "        M2 = MassFunction({'1': 0, '2': 1 - m2[1], '12': m2[1]})\n",
    "        if count1 == 0:\n",
    "            M = M2\n",
    "        elif count2 == 0:\n",
    "            M = M1\n",
    "        else:\n",
    "            M = M1 & M2\n",
    "\n",
    "        if (M.bel({'1'}) > M.bel({'2'})) & (M.pl({'1'}) > M.pl({'2'})):\n",
    "            y_pred[i] = 1\n",
    "        if (M.bel({'1'}) < M.bel({'2'})) & (M.pl({'1'}) < M.pl({'2'})):\n",
    "            y_pred[i] = 2\n",
    "\n",
    "    return y_pred"
   ]
  },
  {
   "cell_type": "code",
   "execution_count": 12,
   "outputs": [],
   "source": [
    "dq1 = compute_mean_distances(C1)\n",
    "dq2 = compute_mean_distances(C2)\n",
    "gamma1 = 1 / dq1\n",
    "gamma2 = 1 / dq2"
   ],
   "metadata": {
    "collapsed": false,
    "pycharm": {
     "name": "#%%\n"
    }
   }
  },
  {
   "cell_type": "markdown",
   "metadata": {
    "pycharm": {
     "name": "#%% md\n"
    }
   },
   "source": [
    "## X Cross-validation ##"
   ]
  },
  {
   "cell_type": "code",
   "execution_count": 13,
   "metadata": {
    "pycharm": {
     "name": "#%%\n"
    }
   },
   "outputs": [],
   "source": [
    "k_choices = list(range(2, 26))\n",
    "X_train_folds = []\n",
    "y_train_folds = []\n",
    "X_train_folds = np.array_split(X, num_folds)\n",
    "y_train_folds = np.array_split(y, num_folds)\n",
    "k_to_accuracies = {}\n",
    "k_to_accuracies_w = {}\n",
    "k_to_accuracies_ds = {}\n",
    "for k in k_choices:\n",
    "    for fold in range(num_folds):\n",
    "        validation_X_test = X_train_folds[fold]\n",
    "        validation_y_test = y_train_folds[fold]\n",
    "        temp_X_train = np.concatenate(X_train_folds[:fold] + X_train_folds[fold + 1:])\n",
    "        temp_y_train = np.concatenate(y_train_folds[:fold] + y_train_folds[fold + 1:])\n",
    "        temp_dists = compute_distances(validation_X_test, temp_X_train)\n",
    "\n",
    "        temp_y_test_pred = predict_labels(temp_y_train, temp_dists, k)\n",
    "        temp_y_test_pred = temp_y_test_pred.reshape((-1, 1))\n",
    "\n",
    "        temp_y_test_pred_w = predict_labels_weight(temp_y_train, temp_dists, k)\n",
    "        temp_y_test_pred_w = temp_y_test_pred_w.reshape((-1, 1))\n",
    "\n",
    "        temp_y_test_pred_ds = predict_labels_DS(temp_y_train, temp_dists, k)\n",
    "        temp_y_test_pred_ds = temp_y_test_pred_ds.reshape((-1, 1))\n",
    "\n",
    "        num_correct = np.sum(temp_y_test_pred == validation_y_test)\n",
    "        num_correct_w = np.sum(temp_y_test_pred_w == validation_y_test)\n",
    "        num_correct_ds = np.sum(temp_y_test_pred_ds == validation_y_test)\n",
    "\n",
    "        num_test = validation_X_test.shape[0]\n",
    "\n",
    "        accuracy = float(num_correct) / num_test\n",
    "        accuracy_w = float(num_correct_w) / num_test\n",
    "        accuracy_ds = float(num_correct_ds) / num_test\n",
    "\n",
    "        k_to_accuracies[k] = k_to_accuracies.get(k, []) + [accuracy]\n",
    "        k_to_accuracies_w[k] = k_to_accuracies_w.get(k, []) + [accuracy_w]\n",
    "        k_to_accuracies_ds[k] = k_to_accuracies_ds.get(k, []) + [accuracy_ds]"
   ]
  },
  {
   "cell_type": "markdown",
   "metadata": {
    "pycharm": {
     "name": "#%% md\n"
    }
   },
   "source": [
    "## Compute the average of error rate ##"
   ]
  },
  {
   "cell_type": "code",
   "execution_count": 14,
   "metadata": {
    "pycharm": {
     "name": "#%%\n"
    }
   },
   "outputs": [],
   "source": [
    "k_error_rate = []\n",
    "k_error_rate_w = []\n",
    "k_error_rate_ds = []\n",
    "for k in sorted(k_to_accuracies):\n",
    "    sum_ac = 0\n",
    "    for accuracy in k_to_accuracies[k]:\n",
    "        sum_ac += accuracy\n",
    "    # print('k = %d, accuracy = %.3f' % (k, sum_ac/num_folds))\n",
    "    k_error_rate.append(1 - sum_ac/num_folds)\n",
    "\n",
    "for k in sorted(k_to_accuracies_w):\n",
    "    sum_ac = 0\n",
    "    for accuracy in k_to_accuracies_w[k]:\n",
    "        sum_ac += accuracy\n",
    "    # print('k = %d, accuracy = %.3f' % (k, sum_ac/num_folds))\n",
    "    k_error_rate_w.append(1 - sum_ac/num_folds)\n",
    "\n",
    "for k in sorted(k_to_accuracies_ds):\n",
    "    sum_ac = 0\n",
    "    for accuracy in k_to_accuracies_ds[k]:\n",
    "        sum_ac += accuracy\n",
    "    # print('k = %d, accuracy = %.3f' % (k, sum_ac/num_folds))\n",
    "    k_error_rate_ds.append(1 - sum_ac/num_folds)"
   ]
  },
  {
   "cell_type": "code",
   "execution_count": 15,
   "outputs": [
    {
     "data": {
      "text/plain": "<Figure size 432x288 with 1 Axes>",
      "image/png": "[encoded data removed]"
     },
     "metadata": {
      "needs_background": "light"
     },
     "output_type": "display_data"
    }
   ],
   "source": [
    "plt.xlabel('k')\n",
    "plt.ylabel('error rate')\n",
    "plt.plot(k_choices, k_error_rate)\n",
    "plt.plot(k_choices, k_error_rate_w)\n",
    "plt.plot(k_choices, k_error_rate_ds)\n",
    "plt.legend(['k-NN', 'weighted_k-NN', 'DS_k-NN'])\n",
    "plt.show()"
   ],
   "metadata": {
    "collapsed": false,
    "pycharm": {
     "name": "#%%\n"
    }
   }
  }
 ],
 "metadata": {
  "kernelspec": {
   "display_name": "Python 3 (ipykernel)",
   "language": "python",
   "name": "python3"
  },
  "language_info": {
   "codemirror_mode": {
    "name": "ipython",
    "version": 3
   },
   "file_extension": ".py",
   "mimetype": "text/x-python",
   "name": "python",
   "nbconvert_exporter": "python",
   "pygments_lexer": "ipython3",
   "version": "3.7.0"
  }
 },
 "nbformat": 4,
 "nbformat_minor": 1
}