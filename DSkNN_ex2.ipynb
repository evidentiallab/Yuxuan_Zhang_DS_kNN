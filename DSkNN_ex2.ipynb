{
 "cells": [
  {
   "cell_type": "code",
   "execution_count": 2,
   "metadata": {
    "collapsed": true,
    "pycharm": {
     "name": "#%%\n"
    }
   },
   "outputs": [],
   "source": [
    "import numpy as np\n",
    "from numpy.linalg import cholesky\n",
    "import matplotlib.pyplot as plt\n",
    "import pandas as pd\n",
    "from sklearn.model_selection import train_test_split\n",
    "from collections import Counter\n",
    "from pyds import MassFunction"
   ]
  },
  {
   "cell_type": "code",
   "execution_count": 3,
   "outputs": [],
   "source": [
    "data_train = pd.read_csv('dataset_for_ex2_N30.txt')\n",
    "data_test = pd.read_csv('dataset_for_ex2_test.txt')"
   ],
   "metadata": {
    "collapsed": false,
    "pycharm": {
     "name": "#%%\n"
    }
   }
  },
  {
   "cell_type": "code",
   "execution_count": 4,
   "outputs": [],
   "source": [
    "X_train = data_train[(['x1', 'x2', 'x3'])]\n",
    "y_train = data_train[(['Y'])]\n",
    "X_test = data_test[(['x1', 'x2', 'x3'])]\n",
    "y_test = data_test[(['Y'])]"
   ],
   "metadata": {
    "collapsed": false,
    "pycharm": {
     "name": "#%%\n"
    }
   }
  },
  {
   "cell_type": "code",
   "execution_count": 5,
   "outputs": [],
   "source": [
    "num_train = X_train.shape[0]\n",
    "num_test = X_test.shape[0]"
   ],
   "metadata": {
    "collapsed": false,
    "pycharm": {
     "name": "#%%\n"
    }
   }
  },
  {
   "cell_type": "code",
   "execution_count": 6,
   "outputs": [],
   "source": [
    "gamma1 = 0\n",
    "gamma2 = 0\n",
    "gamma3 = 0\n",
    "Beta = 1\n",
    "alpha_0 = 0.95"
   ],
   "metadata": {
    "collapsed": false,
    "pycharm": {
     "name": "#%%\n"
    }
   }
  },
  {
   "cell_type": "code",
   "execution_count": 7,
   "outputs": [],
   "source": [
    "C1 = np.array(data_train[data_train['Y'].isin([1])][{'x1', 'x2'}])\n",
    "C2 = np.array(data_train[data_train['Y'].isin([2])][{'x1', 'x2'}])\n",
    "C3 = np.array(data_train[data_train['Y'].isin([3])][{'x1', 'x2'}])\n",
    "num_mds = C1.shape[0]"
   ],
   "metadata": {
    "collapsed": false,
    "pycharm": {
     "name": "#%%\n"
    }
   }
  },
  {
   "cell_type": "code",
   "execution_count": 8,
   "outputs": [],
   "source": [
    "def compute_distances(X_test, X_train):\n",
    "    dists = np.zeros((num_test, num_train))\n",
    "    M = np.dot(X_test, X_train.T)\n",
    "    te = np.square(X_test).sum(axis=1)\n",
    "    tr = np.square(X_train).sum(axis=1)\n",
    "    dists = np.sqrt(-2 * M + np.matrix(tr) + np.matrix(te).T)\n",
    "    return dists"
   ],
   "metadata": {
    "collapsed": false,
    "pycharm": {
     "name": "#%%\n"
    }
   }
  },
  {
   "cell_type": "code",
   "execution_count": 9,
   "outputs": [],
   "source": [
    "def compute_mean_distances(C):\n",
    "    dists = np.zeros((num_mds, num_mds))\n",
    "    M = np.dot(C, C.T)\n",
    "    tr = np.square(C).sum(axis=1)\n",
    "    dists = np.sqrt(np.abs(-2 * M + 2 * np.matrix(tr)))\n",
    "    ds = (np.sum(dists) - np.sum(tr)) / (num_mds ** 2 - num_mds)\n",
    "    return ds"
   ],
   "metadata": {
    "collapsed": false,
    "pycharm": {
     "name": "#%%\n"
    }
   }
  },
  {
   "cell_type": "code",
   "execution_count": 10,
   "outputs": [],
   "source": [
    "def phi1(d_s):\n",
    "    return np.exp(- gamma1 * (d_s ** Beta))"
   ],
   "metadata": {
    "collapsed": false,
    "pycharm": {
     "name": "#%%\n"
    }
   }
  },
  {
   "cell_type": "code",
   "execution_count": 11,
   "outputs": [],
   "source": [
    "def phi2(d_s):\n",
    "    return np.exp(- gamma2 * (d_s ** Beta))"
   ],
   "metadata": {
    "collapsed": false,
    "pycharm": {
     "name": "#%%\n"
    }
   }
  },
  {
   "cell_type": "code",
   "execution_count": 12,
   "outputs": [],
   "source": [
    "def phi3(d_s):\n",
    "    return np.exp(- gamma3 * (d_s ** Beta))"
   ],
   "metadata": {
    "collapsed": false,
    "pycharm": {
     "name": "#%%\n"
    }
   }
  },
  {
   "cell_type": "code",
   "execution_count": 13,
   "outputs": [],
   "source": [
    "def predict_labels(y_train, dists, k):\n",
    "    y_pred = np.zeros(num_test)\n",
    "    for i in range(num_test):\n",
    "        labels = np.matrix(y_train)[np.argsort(dists[i, :])].flatten()\n",
    "        closest_y = labels[0, 0:k]\n",
    "        l_c_y = closest_y.tolist()[0]\n",
    "        c = Counter(l_c_y)\n",
    "        y_pred[i] = c.most_common(1)[0][0]\n",
    "    return y_pred"
   ],
   "metadata": {
    "collapsed": false,
    "pycharm": {
     "name": "#%%\n"
    }
   }
  },
  {
   "cell_type": "code",
   "execution_count": 14,
   "outputs": [],
   "source": [
    "def predict_labels_weight(y_train, dists, k):\n",
    "    y_pred = np.zeros(num_test)\n",
    "    for i in range(num_test):\n",
    "        closest_y = []\n",
    "        distances = np.sort(np.matrix(dists)).flatten()[:, 0:k]\n",
    "        dk = distances[:, k - 1]\n",
    "        d1 = distances[:, 0]\n",
    "        delta_d = dk - d1\n",
    "        ds = (dk - distances) / delta_d\n",
    "        labels = np.matrix(y_train)[np.argsort(dists[i, :])].flatten()\n",
    "        closest_y = labels[0, 0:k]\n",
    "        weights = np.zeros(3)\n",
    "        for j in range(k):\n",
    "            if closest_y.tolist()[0][j] == 1:\n",
    "                weights[0] += ds.tolist()[0][j]\n",
    "            elif closest_y.tolist()[0][j] == 2:\n",
    "                weights[1] += ds.tolist()[0][j]\n",
    "            else:\n",
    "                weights[2] += ds.tolist()[0][j]\n",
    "        if weights[0] > weights[1] and weights[0] > weights[2]:\n",
    "            y_pred[i] = 1\n",
    "        elif weights[1] > weights[0] and weights[1] > weights[2]:\n",
    "            y_pred[i] = 2\n",
    "        else:\n",
    "            y_pred[i] = 3\n",
    "    return y_pred"
   ],
   "metadata": {
    "collapsed": false,
    "pycharm": {
     "name": "#%%\n"
    }
   }
  },
  {
   "cell_type": "code",
   "execution_count": 15,
   "outputs": [],
   "source": [
    "def predict_labels_DS(y_train, dists, k):\n",
    "    y_pred = np.zeros(num_test)\n",
    "    for i in range(num_test):\n",
    "        closest_y = []\n",
    "        distances = np.sort(np.matrix(dists)).flatten()[:, 0:k]\n",
    "        labels = np.matrix(y_train)[np.argsort(dists[i, :])].flatten()\n",
    "        closest_y = labels[0, 0:k]\n",
    "        weights = np.zeros([3, k])\n",
    "        count1 = 0\n",
    "        count2 = 0\n",
    "        count3 = 0\n",
    "        for j in range(k):\n",
    "            if closest_y.tolist()[0][j] == 1:\n",
    "                count1 += 1\n",
    "                weights[0][j] = distances.tolist()[0][j]\n",
    "            elif closest_y.tolist()[0][j] == 2:\n",
    "                count2 += 1\n",
    "                weights[1][j] = distances.tolist()[0][j]\n",
    "            else:\n",
    "                count3 += 1\n",
    "                weights[2][j] = distances.tolist()[0][j]\n",
    "        m1 = [1, 0, 0, 0]\n",
    "        m2 = [0, 1, 0, 0]\n",
    "        m3 = [0, 0, 1, 0]\n",
    "        for l in range(k):\n",
    "            if weights[0][l] != 0:\n",
    "                m1[0] *= 1 - alpha_0 * phi1(weights[0][l])\n",
    "            if weights[1][l] != 0:\n",
    "                m2[1] *= 1 - alpha_0 * phi2(weights[1][l])\n",
    "            if weights[2][l] != 0:\n",
    "                m3[2] *= 1 - alpha_0 * phi3(weights[2][l])\n",
    "\n",
    "        M1 = MassFunction({'1': 1 - m1[0], '2': 0, '3': 0, '123': m1[0]})\n",
    "        M2 = MassFunction({'1': 0, '2': 1 - m2[1], '3': 0, '123': m2[1]})\n",
    "        M3 = MassFunction({'1': 0, '2': 0, '3': 1 - m3[2], '123': m3[2]})\n",
    "\n",
    "        if count1 == 0 and count2 == 0:\n",
    "            M = M3\n",
    "        elif count1 == 0 and count3 == 0:\n",
    "            M = M2\n",
    "        elif count2 == 0 and count3 == 0:\n",
    "            M = M1\n",
    "        else:\n",
    "            M = M1 & M2 & M3\n",
    "\n",
    "        max_bel = max(M.bel({'1'}), M.bel({'2'}), M.bel({'3'}))\n",
    "        max_pl = max(M.pl({'1'}), M.pl({'2'}), M.pl({'3'}))\n",
    "        if (M.bel({'1'}) == max_bel):\n",
    "            y_pred[i] = 1\n",
    "        if (M.bel({'2'}) == max_bel):\n",
    "            y_pred[i] = 2\n",
    "        if (M.bel({'3'}) == max_bel):\n",
    "            y_pred[i] = 3\n",
    "    return y_pred"
   ],
   "metadata": {
    "collapsed": false,
    "pycharm": {
     "name": "#%%\n"
    }
   }
  },
  {
   "cell_type": "code",
   "execution_count": 16,
   "outputs": [],
   "source": [
    "k_to_error = {}\n",
    "k_to_error_w = {}\n",
    "k_to_error_d = {}\n",
    "k_choices = list(range(2, 26))"
   ],
   "metadata": {
    "collapsed": false,
    "pycharm": {
     "name": "#%%\n"
    }
   }
  },
  {
   "cell_type": "code",
   "execution_count": 17,
   "outputs": [],
   "source": [
    "dq1 = compute_mean_distances(C1)\n",
    "dq2 = compute_mean_distances(C2)\n",
    "dq3 = compute_mean_distances(C3)\n",
    "gamma1 = 1 / dq1\n",
    "gamma2 = 1 / dq2\n",
    "gamma3 = 1 / dq3"
   ],
   "metadata": {
    "collapsed": false,
    "pycharm": {
     "name": "#%%\n"
    }
   }
  },
  {
   "cell_type": "code",
   "execution_count": 18,
   "outputs": [],
   "source": [
    "for k in k_choices:\n",
    "    distances = compute_distances(X_test, X_train)\n",
    "\n",
    "    pred = predict_labels(y_train, distances, k)\n",
    "    pred = pred.reshape((-1, 1))\n",
    "    num_correct = np.sum(pred == y_test)\n",
    "    error_rate = float(1 - (num_correct / num_test))\n",
    "\n",
    "    pred = predict_labels_weight(y_train, distances, k)\n",
    "    pred = pred.reshape((-1, 1))\n",
    "    num_correct = np.sum(pred == y_test)\n",
    "    error_rate_w = float(1 - (num_correct / num_test))\n",
    "\n",
    "    pred = predict_labels_DS(y_train, distances, k)\n",
    "    pred = pred.reshape((-1, 1))\n",
    "    num_correct = np.sum(pred == y_test)\n",
    "    error_rate_d = float(1 - (num_correct / num_test))\n",
    "\n",
    "    k_to_error[k] = k_to_error.get(k, []) + [error_rate]\n",
    "    k_to_error_w[k] = k_to_error_w.get(k, []) + [error_rate_w]\n",
    "    k_to_error_d[k] = k_to_error_d.get(k, []) + [error_rate_d]"
   ],
   "metadata": {
    "collapsed": false,
    "pycharm": {
     "name": "#%%\n"
    }
   }
  },
  {
   "cell_type": "code",
   "execution_count": 19,
   "outputs": [],
   "source": [
    "avg_error_rate = 0\n",
    "avg_error_rate_w = 0\n",
    "avg_error_rate_d = 0"
   ],
   "metadata": {
    "collapsed": false,
    "pycharm": {
     "name": "#%%\n"
    }
   }
  },
  {
   "cell_type": "code",
   "execution_count": 20,
   "outputs": [],
   "source": [
    "min_error_rate = 1\n",
    "min_error_rate_w = 1\n",
    "min_error_rate_d = 1"
   ],
   "metadata": {
    "collapsed": false,
    "pycharm": {
     "name": "#%%\n"
    }
   }
  },
  {
   "cell_type": "code",
   "execution_count": 21,
   "outputs": [],
   "source": [
    "k_min = 2\n",
    "k_min_w = 2\n",
    "k_min_d = 2"
   ],
   "metadata": {
    "collapsed": false,
    "pycharm": {
     "name": "#%%\n"
    }
   }
  },
  {
   "cell_type": "code",
   "execution_count": 22,
   "outputs": [],
   "source": [
    "k_error_rate = []\n",
    "k_error_rate_w = []\n",
    "k_error_rate_d = []"
   ],
   "metadata": {
    "collapsed": false,
    "pycharm": {
     "name": "#%%\n"
    }
   }
  },
  {
   "cell_type": "code",
   "execution_count": 23,
   "outputs": [],
   "source": [
    "for key, value in k_to_error.items():\n",
    "    if value[0] < min_error_rate:\n",
    "        min_error_rate = value[0]\n",
    "        k_min = key\n",
    "    avg_error_rate += value[0]\n",
    "    k_error_rate.append(value[0])"
   ],
   "metadata": {
    "collapsed": false,
    "pycharm": {
     "name": "#%%\n"
    }
   }
  },
  {
   "cell_type": "code",
   "execution_count": 24,
   "outputs": [],
   "source": [
    "for key, value in k_to_error_w.items():\n",
    "    if value[0] < min_error_rate_w:\n",
    "        min_error_rate_w = value[0]\n",
    "        k_min_w = key\n",
    "    avg_error_rate_w += value[0]\n",
    "    k_error_rate_w.append(value[0])"
   ],
   "metadata": {
    "collapsed": false,
    "pycharm": {
     "name": "#%%\n"
    }
   }
  },
  {
   "cell_type": "code",
   "execution_count": 25,
   "outputs": [],
   "source": [
    "for key, value in k_to_error_d.items():\n",
    "    if value[0] < min_error_rate_d:\n",
    "        min_error_rate_d = value[0]\n",
    "        k_min_d = key\n",
    "    avg_error_rate_d += value[0]\n",
    "    k_error_rate_d.append(value[0])"
   ],
   "metadata": {
    "collapsed": false,
    "pycharm": {
     "name": "#%%\n"
    }
   }
  },
  {
   "cell_type": "code",
   "execution_count": 26,
   "outputs": [
    {
     "name": "stdout",
     "output_type": "stream",
     "text": [
      "average error rate for kNN : 0.3845929262595929\n",
      "average error rate for weighted_kNN : 0.35618952285618954\n",
      "average error rate for DS_kNN : 0.3052218885552219\n"
     ]
    }
   ],
   "source": [
    "print('average error rate for kNN :', avg_error_rate / 24)\n",
    "print('average error rate for weighted_kNN :', avg_error_rate_w / 24)\n",
    "print('average error rate for DS_kNN :', avg_error_rate_d / 24)"
   ],
   "metadata": {
    "collapsed": false,
    "pycharm": {
     "name": "#%%\n"
    }
   }
  },
  {
   "cell_type": "code",
   "execution_count": 27,
   "outputs": [
    {
     "name": "stdout",
     "output_type": "stream",
     "text": [
      "k = 5, min error rate for kNN: 0.327\n",
      "k = 9, min error rate for weighted-kNN: 0.326\n",
      "k = 19, min error rate for DS-kNN: 0.284\n"
     ]
    }
   ],
   "source": [
    "print('k = %d, min error rate for kNN: %.3f' % (k_min, min_error_rate))\n",
    "print('k = %d, min error rate for weighted-kNN: %.3f' % (k_min_w, min_error_rate_w))\n",
    "print('k = %d, min error rate for DS-kNN: %.3f' % (k_min_d, min_error_rate_d))"
   ],
   "metadata": {
    "collapsed": false,
    "pycharm": {
     "name": "#%%\n"
    }
   }
  },
  {
   "cell_type": "code",
   "execution_count": 28,
   "outputs": [
    {
     "data": {
      "text/plain": "<Figure size 432x288 with 1 Axes>",
      "image/png": "[encoded data removed]"
     },
     "metadata": {
      "needs_background": "light"
     },
     "output_type": "display_data"
    }
   ],
   "source": [
    "plt.xlabel('k, N = 30')\n",
    "plt.ylabel('error rate')\n",
    "plt.plot(k_choices, k_error_rate)\n",
    "plt.plot(k_choices, k_error_rate_w)\n",
    "plt.plot(k_choices, k_error_rate_d)\n",
    "plt.legend(['k-NN', 'weighted_k-NN', 'DS_k-NN'])\n",
    "plt.show()"
   ],
   "metadata": {
    "collapsed": false,
    "pycharm": {
     "name": "#%%\n"
    }
   }
  },
  {
   "cell_type": "code",
   "execution_count": null,
   "outputs": [],
   "source": [],
   "metadata": {
    "collapsed": false,
    "pycharm": {
     "name": "#%%\n"
    }
   }
  }
 ],
 "metadata": {
  "kernelspec": {
   "display_name": "Python 3",
   "language": "python",
   "name": "python3"
  },
  "language_info": {
   "codemirror_mode": {
    "name": "ipython",
    "version": 2
   },
   "file_extension": ".py",
   "mimetype": "text/x-python",
   "name": "python",
   "nbconvert_exporter": "python",
   "pygments_lexer": "ipython2",
   "version": "2.7.6"
  }
 },
 "nbformat": 4,
 "nbformat_minor": 0
}